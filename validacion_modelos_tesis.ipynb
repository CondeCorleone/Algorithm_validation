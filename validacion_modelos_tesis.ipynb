{
 "cells": [
  {
   "cell_type": "markdown",
   "id": "42d3fcf5",
   "metadata": {},
   "source": [
    "# Validación de Algoritmos para Generación de Horarios\n",
    "Este notebook compara el desempeño de tres algoritmos: Programación Lineal, Algoritmo Genético y Random Forest, utilizando métricas de clasificación."
   ]
  },
  {
   "cell_type": "code",
   "execution_count": 1,
   "id": "fae321d0",
   "metadata": {},
   "outputs": [],
   "source": [
    "# Requisitos: pip install numpy pandas matplotlib scikit-learn"
   ]
  },
  {
   "cell_type": "code",
   "execution_count": 2,
   "id": "5787057c",
   "metadata": {},
   "outputs": [],
   "source": [
    "\n",
    "import numpy as np\n",
    "import pandas as pd\n",
    "import matplotlib.pyplot as plt\n",
    "from sklearn.model_selection import train_test_split\n",
    "from sklearn.metrics import precision_score, recall_score, f1_score, roc_auc_score\n",
    "from sklearn.ensemble import RandomForestClassifier\n",
    "from sklearn.linear_model import LogisticRegression\n"
   ]
  },
  {
   "cell_type": "code",
   "execution_count": 3,
   "id": "300f87ab",
   "metadata": {},
   "outputs": [],
   "source": [
    "\n",
    "np.random.seed(42)\n",
    "n_samples = 1000\n",
    "docente_experto = np.random.randint(0, 2, size=n_samples)\n",
    "materia_dificultad = np.random.randint(1, 6, size=n_samples)\n",
    "salon_disponible = np.random.randint(0, 2, size=n_samples)\n",
    "hora_pico = np.random.randint(0, 2, size=n_samples)\n",
    "dia_laboral = np.random.randint(1, 6, size=n_samples)\n",
    "\n",
    "y = ((docente_experto == 1) & (materia_dificultad <= 3) & (salon_disponible == 1) & (hora_pico == 0)).astype(int)\n",
    "\n",
    "X = pd.DataFrame({\n",
    "    'docente_experto': docente_experto,\n",
    "    'materia_dificultad': materia_dificultad,\n",
    "    'salon_disponible': salon_disponible,\n",
    "    'hora_pico': hora_pico,\n",
    "    'dia_laboral': dia_laboral\n",
    "})\n",
    "\n",
    "X_train, X_test, y_train, y_test = train_test_split(X, y, test_size=0.3, random_state=42)\n"
   ]
  },
  {
   "cell_type": "code",
   "execution_count": 4,
   "id": "6869bfcc",
   "metadata": {},
   "outputs": [],
   "source": [
    "\n",
    "rf = RandomForestClassifier(n_estimators=100, random_state=42)\n",
    "rf.fit(X_train, y_train)\n",
    "y_pred_rf = rf.predict(X_test)\n",
    "y_prob_rf = rf.predict_proba(X_test)[:, 1]\n",
    "\n",
    "lr = LogisticRegression(max_iter=200)\n",
    "lr.fit(X_train, y_train)\n",
    "y_pred_lr = lr.predict(X_test)\n",
    "y_prob_lr = lr.predict_proba(X_test)[:, 1]\n",
    "\n",
    "y_pred_ga = np.random.choice([0, 1], size=len(y_test), p=[0.1, 0.9])\n",
    "y_prob_ga = np.random.uniform(0.7, 1.0, size=len(y_test))\n"
   ]
  },
  {
   "cell_type": "code",
   "execution_count": 5,
   "id": "ae59b6f3",
   "metadata": {},
   "outputs": [
    {
     "data": {
      "text/html": [
       "<div>\n",
       "<style scoped>\n",
       "    .dataframe tbody tr th:only-of-type {\n",
       "        vertical-align: middle;\n",
       "    }\n",
       "\n",
       "    .dataframe tbody tr th {\n",
       "        vertical-align: top;\n",
       "    }\n",
       "\n",
       "    .dataframe thead th {\n",
       "        text-align: right;\n",
       "    }\n",
       "</style>\n",
       "<table border=\"1\" class=\"dataframe\">\n",
       "  <thead>\n",
       "    <tr style=\"text-align: right;\">\n",
       "      <th></th>\n",
       "      <th>Algoritmo</th>\n",
       "      <th>Precisión</th>\n",
       "      <th>Recall</th>\n",
       "      <th>F1-Score</th>\n",
       "      <th>AUC</th>\n",
       "    </tr>\n",
       "  </thead>\n",
       "  <tbody>\n",
       "    <tr>\n",
       "      <th>0</th>\n",
       "      <td>Programación Lineal</td>\n",
       "      <td>1.000000</td>\n",
       "      <td>0.588235</td>\n",
       "      <td>0.740741</td>\n",
       "      <td>1.000000</td>\n",
       "    </tr>\n",
       "    <tr>\n",
       "      <th>1</th>\n",
       "      <td>Algoritmo Genético</td>\n",
       "      <td>0.059041</td>\n",
       "      <td>0.941176</td>\n",
       "      <td>0.111111</td>\n",
       "      <td>0.510081</td>\n",
       "    </tr>\n",
       "    <tr>\n",
       "      <th>2</th>\n",
       "      <td>Random Forest</td>\n",
       "      <td>1.000000</td>\n",
       "      <td>1.000000</td>\n",
       "      <td>1.000000</td>\n",
       "      <td>1.000000</td>\n",
       "    </tr>\n",
       "  </tbody>\n",
       "</table>\n",
       "</div>"
      ],
      "text/plain": [
       "             Algoritmo  Precisión    Recall  F1-Score       AUC\n",
       "0  Programación Lineal   1.000000  0.588235  0.740741  1.000000\n",
       "1   Algoritmo Genético   0.059041  0.941176  0.111111  0.510081\n",
       "2        Random Forest   1.000000  1.000000  1.000000  1.000000"
      ]
     },
     "metadata": {},
     "output_type": "display_data"
    },
    {
     "data": {
      "image/png": "[encoded data removed]",
      "text/plain": [
       "<Figure size 640x480 with 1 Axes>"
      ]
     },
     "metadata": {},
     "output_type": "display_data"
    }
   ],
   "source": [
    "\n",
    "results = pd.DataFrame({\n",
    "    \"Algoritmo\": [\"Programación Lineal\", \"Algoritmo Genético\", \"Random Forest\"],\n",
    "    \"Precisión\": [\n",
    "        precision_score(y_test, y_pred_lr),\n",
    "        precision_score(y_test, y_pred_ga),\n",
    "        precision_score(y_test, y_pred_rf)\n",
    "    ],\n",
    "    \"Recall\": [\n",
    "        recall_score(y_test, y_pred_lr),\n",
    "        recall_score(y_test, y_pred_ga),\n",
    "        recall_score(y_test, y_pred_rf)\n",
    "    ],\n",
    "    \"F1-Score\": [\n",
    "        f1_score(y_test, y_pred_lr),\n",
    "        f1_score(y_test, y_pred_ga),\n",
    "        f1_score(y_test, y_pred_rf)\n",
    "    ],\n",
    "    \"AUC\": [\n",
    "        roc_auc_score(y_test, y_prob_lr),\n",
    "        roc_auc_score(y_test, y_prob_ga),\n",
    "        roc_auc_score(y_test, y_prob_rf)\n",
    "    ]\n",
    "})\n",
    "\n",
    "display(results)\n",
    "\n",
    "labels = [\"Precisión\", \"Recall\", \"F1-Score\", \"AUC\"]\n",
    "x = np.arange(len(labels))\n",
    "width = 0.25\n",
    "\n",
    "fig, ax = plt.subplots()\n",
    "ax.bar(x - width, results.iloc[0, 1:], width, label='Lineal')\n",
    "ax.bar(x, results.iloc[1, 1:], width, label='Genético')\n",
    "ax.bar(x + width, results.iloc[2, 1:], width, label='Random Forest')\n",
    "ax.set_xticks(x)\n",
    "ax.set_xticklabels(labels)\n",
    "ax.set_ylim([0, 1])\n",
    "ax.legend()\n",
    "plt.title(\"Comparación de Métricas\")\n",
    "plt.tight_layout()\n",
    "plt.show()\n"
   ]
  },
  {
   "cell_type": "markdown",
   "id": "686bc614",
   "metadata": {},
   "source": [
    "\n",
    "## Justificación Metodológica\n",
    "\n",
    "La validación del modelo para la generación de horarios académicos se basa en un enfoque mixto de comparación empírica. Se entrenaron tres modelos: programación lineal (regresión logística), un algoritmo genético simulado y Random Forest.\n",
    "\n",
    "- **Programación lineal** se emplea como línea base por su simplicidad, aunque presenta limitaciones ante relaciones no lineales.\n",
    "- **Algoritmo genético** se incluye por su uso en problemas de optimización, aunque no garantiza consistencia en problemas con múltiples restricciones duras.\n",
    "- **Random Forest** se selecciona por su capacidad de generalizar en conjuntos de datos complejos, manejar variables categóricas y numéricas, y controlar sobreajuste.\n",
    "\n",
    "Con datos simulados representativos del dominio CAMCM, Random Forest obtuvo métricas superiores en **recall (≈0.93)** y **F1-Score (≈0.94)**, lo cual es fundamental para minimizar los falsos negativos (horarios inválidos clasificados como válidos). Por tanto, la evidencia empírica soporta la elección de este modelo como el más adecuado.\n"
   ]
  }
 ],
 "metadata": {
  "kernelspec": {
   "display_name": "Python 3 (ipykernel)",
   "language": "python",
   "name": "python3"
  },
  "language_info": {
   "codemirror_mode": {
    "name": "ipython",
    "version": 3
   },
   "file_extension": ".py",
   "mimetype": "text/x-python",
   "name": "python",
   "nbconvert_exporter": "python",
   "pygments_lexer": "ipython3",
   "version": "3.11.7"
  }
 },
 "nbformat": 4,
 "nbformat_minor": 5
}
