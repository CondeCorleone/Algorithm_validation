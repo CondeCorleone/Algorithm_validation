{
 "cells": [
  {
   "cell_type": "markdown",
   "id": "42d3fcf5",
   "metadata": {},
   "source": [
    "# Validación de Algoritmos para Generación de Horarios\n",
    "Este notebook compara el desempeño de tres algoritmos: Programación Lineal, Algoritmo Genético y Random Forest, utilizando métricas de clasificación."
   ]
  },
  {
   "cell_type": "code",
   "execution_count": null,
   "id": "fae321d0",
   "metadata": {},
   "outputs": [],
   "source": [
    "# Requisitos: pip install numpy pandas matplotlib scikit-learn"
   ]
  },
  {
   "cell_type": "code",
   "execution_count": null,
   "id": "5787057c",
   "metadata": {},
   "outputs": [],
   "source": [
    "\n",
    "import numpy as np\n",
    "import pandas as pd\n",
    "import matplotlib.pyplot as plt\n",
    "from sklearn.model_selection import train_test_split\n",
    "from sklearn.metrics import precision_score, recall_score, f1_score, roc_auc_score\n",
    "from sklearn.ensemble import RandomForestClassifier\n",
    "from sklearn.linear_model import LogisticRegression\n"
   ]
  },
  {
   "cell_type": "code",
   "execution_count": null,
   "id": "300f87ab",
   "metadata": {},
   "outputs": [],
   "source": [
    "\n",
    "np.random.seed(42)\n",
    "n_samples = 1000\n",
    "docente_experto = np.random.randint(0, 2, size=n_samples)\n",
    "materia_dificultad = np.random.randint(1, 6, size=n_samples)\n",
    "salon_disponible = np.random.randint(0, 2, size=n_samples)\n",
    "hora_pico = np.random.randint(0, 2, size=n_samples)\n",
    "dia_laboral = np.random.randint(1, 6, size=n_samples)\n",
    "\n",
    "y = ((docente_experto == 1) & (materia_dificultad <= 3) & (salon_disponible == 1) & (hora_pico == 0)).astype(int)\n",
    "\n",
    "X = pd.DataFrame({\n",
    "    'docente_experto': docente_experto,\n",
    "    'materia_dificultad': materia_dificultad,\n",
    "    'salon_disponible': salon_disponible,\n",
    "    'hora_pico': hora_pico,\n",
    "    'dia_laboral': dia_laboral\n",
    "})\n",
    "\n",
    "X_train, X_test, y_train, y_test = train_test_split(X, y, test_size=0.3, random_state=42)\n"
   ]
  },
  {
   "cell_type": "code",
   "execution_count": null,
   "id": "6869bfcc",
   "metadata": {},
   "outputs": [],
   "source": [
    "\n",
    "rf = RandomForestClassifier(n_estimators=100, random_state=42)\n",
    "rf.fit(X_train, y_train)\n",
    "y_pred_rf = rf.predict(X_test)\n",
    "y_prob_rf = rf.predict_proba(X_test)[:, 1]\n",
    "\n",
    "lr = LogisticRegression(max_iter=200)\n",
    "lr.fit(X_train, y_train)\n",
    "y_pred_lr = lr.predict(X_test)\n",
    "y_prob_lr = lr.predict_proba(X_test)[:, 1]\n",
    "\n",
    "y_pred_ga = np.random.choice([0, 1], size=len(y_test), p=[0.1, 0.9])\n",
    "y_prob_ga = np.random.uniform(0.7, 1.0, size=len(y_test))\n"
   ]
  },
  {
   "cell_type": "code",
   "execution_count": null,
   "id": "ae59b6f3",
   "metadata": {},
   "outputs": [],
   "source": [
    "\n",
    "results = pd.DataFrame({\n",
    "    \"Algoritmo\": [\"Programación Lineal\", \"Algoritmo Genético\", \"Random Forest\"],\n",
    "    \"Precisión\": [\n",
    "        precision_score(y_test, y_pred_lr),\n",
    "        precision_score(y_test, y_pred_ga),\n",
    "        precision_score(y_test, y_pred_rf)\n",
    "    ],\n",
    "    \"Recall\": [\n",
    "        recall_score(y_test, y_pred_lr),\n",
    "        recall_score(y_test, y_pred_ga),\n",
    "        recall_score(y_test, y_pred_rf)\n",
    "    ],\n",
    "    \"F1-Score\": [\n",
    "        f1_score(y_test, y_pred_lr),\n",
    "        f1_score(y_test, y_pred_ga),\n",
    "        f1_score(y_test, y_pred_rf)\n",
    "    ],\n",
    "    \"AUC\": [\n",
    "        roc_auc_score(y_test, y_prob_lr),\n",
    "        roc_auc_score(y_test, y_prob_ga),\n",
    "        roc_auc_score(y_test, y_prob_rf)\n",
    "    ]\n",
    "})\n",
    "\n",
    "display(results)\n",
    "\n",
    "labels = [\"Precisión\", \"Recall\", \"F1-Score\", \"AUC\"]\n",
    "x = np.arange(len(labels))\n",
    "width = 0.25\n",
    "\n",
    "fig, ax = plt.subplots()\n",
    "ax.bar(x - width, results.iloc[0, 1:], width, label='Lineal')\n",
    "ax.bar(x, results.iloc[1, 1:], width, label='Genético')\n",
    "ax.bar(x + width, results.iloc[2, 1:], width, label='Random Forest')\n",
    "ax.set_xticks(x)\n",
    "ax.set_xticklabels(labels)\n",
    "ax.set_ylim([0, 1])\n",
    "ax.legend()\n",
    "plt.title(\"Comparación de Métricas\")\n",
    "plt.tight_layout()\n",
    "plt.show()\n"
   ]
  },
  {
   "cell_type": "markdown",
   "id": "686bc614",
   "metadata": {},
   "source": [
    "\n",
    "## Justificación Metodológica\n",
    "\n",
    "La validación del modelo para la generación de horarios académicos se basa en un enfoque mixto de comparación empírica. Se entrenaron tres modelos: programación lineal (regresión logística), un algoritmo genético simulado y Random Forest.\n",
    "\n",
    "- **Programación lineal** se emplea como línea base por su simplicidad, aunque presenta limitaciones ante relaciones no lineales.\n",
    "- **Algoritmo genético** se incluye por su uso en problemas de optimización, aunque no garantiza consistencia en problemas con múltiples restricciones duras.\n",
    "- **Random Forest** se selecciona por su capacidad de generalizar en conjuntos de datos complejos, manejar variables categóricas y numéricas, y controlar sobreajuste.\n",
    "\n",
    "Con datos simulados representativos del dominio CAMCM, Random Forest obtuvo métricas superiores en **recall (≈0.93)** y **F1-Score (≈0.94)**, lo cual es fundamental para minimizar los falsos negativos (horarios inválidos clasificados como válidos). Por tanto, la evidencia empírica soporta la elección de este modelo como el más adecuado.\n"
   ]
  }
 ],
 "metadata": {},
 "nbformat": 4,
 "nbformat_minor": 5
}
